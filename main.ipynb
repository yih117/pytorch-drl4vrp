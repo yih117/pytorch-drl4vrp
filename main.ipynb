{
  "nbformat": 4,
  "nbformat_minor": 0,
  "metadata": {
    "colab": {
      "provenance": [],
      "gpuType": "T4"
    },
    "kernelspec": {
      "name": "python3",
      "display_name": "Python 3"
    },
    "language_info": {
      "name": "python"
    },
    "accelerator": "GPU"
  },
  "cells": [
    {
      "cell_type": "code",
      "source": [
        "!rm -rf pytorch-drl4vrp\n",
        "!rm -rf vrp"
      ],
      "metadata": {
        "id": "PEVLu-2xVJFi"
      },
      "execution_count": 8,
      "outputs": []
    },
    {
      "cell_type": "code",
      "execution_count": 2,
      "metadata": {
        "colab": {
          "base_uri": "https://localhost:8080/"
        },
        "id": "6f2iqcoJQLAi",
        "outputId": "cb233806-c6dd-476b-95dc-a47e03af6644"
      },
      "outputs": [
        {
          "output_type": "stream",
          "name": "stdout",
          "text": [
            "Cloning into 'pytorch-drl4vrp'...\n",
            "warning: redirecting to https://github.com/yih117/pytorch-drl4vrp.git/\n",
            "remote: Enumerating objects: 565, done.\u001b[K\n",
            "remote: Counting objects: 100% (41/41), done.\u001b[K\n",
            "remote: Compressing objects: 100% (41/41), done.\u001b[K\n",
            "remote: Total 565 (delta 20), reused 0 (delta 0), pack-reused 524\u001b[K\n",
            "Receiving objects: 100% (565/565), 1.41 MiB | 8.36 MiB/s, done.\n",
            "Resolving deltas: 100% (279/279), done.\n"
          ]
        }
      ],
      "source": [
        "!git clone http://github.com/yih117/pytorch-drl4vrp.git"
      ]
    },
    {
      "cell_type": "code",
      "source": [
        "!python pytorch-drl4vrp/trainer.py --task=vrp --nodes=10 --batch_size=128 --train-size=100000 --max_time=1000 --actor_lr=1e-4 --critic_lr=1e-4 --hidden=256"
      ],
      "metadata": {
        "colab": {
          "base_uri": "https://localhost:8080/"
        },
        "id": "AWqvm4e2Rl5J",
        "outputId": "b826318f-35c5-45d3-cf21-d6b2c9847f18"
      },
      "execution_count": 7,
      "outputs": [
        {
          "output_type": "stream",
          "name": "stdout",
          "text": [
            "Number of Actor parameters: 725760\n",
            "Number of Actor parameters: 12749\n",
            "/content/pytorch-drl4vrp/tasks/vrp.py:158: UserWarning: To copy construct from a tensor, it is recommended to use sourceTensor.clone().detach() or sourceTensor.clone().detach().requires_grad_(True), rather than torch.tensor(sourceTensor).\n",
            "  return torch.tensor(tensor.data, device=dynamic.device), cumulative_reward\n",
            "  Batch 99/782, reward: -2.499, loss: 0.4165, took: 29.8264s\n",
            "  Batch 199/782, reward: -2.498, loss: -0.0970, took: 27.9648s\n",
            "  Batch 299/782, reward: -2.493, loss: -0.0525, took: 28.2810s\n",
            "  Batch 399/782, reward: -2.499, loss: -0.0591, took: 28.8563s\n",
            "  Batch 499/782, reward: -2.504, loss: 0.0522, took: 28.4278s\n",
            "  Batch 599/782, reward: -2.498, loss: -0.0732, took: 28.4367s\n",
            "  Batch 699/782, reward: -2.499, loss: 0.0416, took: 28.7163s\n",
            "\n",
            "^C\n"
          ]
        }
      ]
    },
    {
      "cell_type": "markdown",
      "source": [],
      "metadata": {
        "id": "C_u8Zy3Svuav"
      }
    }
  ]
}