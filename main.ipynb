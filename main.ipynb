{
  "nbformat": 4,
  "nbformat_minor": 0,
  "metadata": {
    "colab": {
      "provenance": [],
      "gpuType": "T4"
    },
    "kernelspec": {
      "name": "python3",
      "display_name": "Python 3"
    },
    "language_info": {
      "name": "python"
    },
    "accelerator": "GPU"
  },
  "cells": [
    {
      "cell_type": "code",
      "source": [
        "!rm -rf pytorch-drl4vrp"
      ],
      "metadata": {
        "id": "PEVLu-2xVJFi"
      },
      "execution_count": null,
      "outputs": []
    },
    {
      "cell_type": "code",
      "execution_count": 34,
      "metadata": {
        "colab": {
          "base_uri": "https://localhost:8080/"
        },
        "id": "6f2iqcoJQLAi",
        "outputId": "03298bd6-5def-4c85-9582-67ef5f5f6951"
      },
      "outputs": [
        {
          "output_type": "stream",
          "name": "stdout",
          "text": [
            "Cloning into 'pytorch-drl4vrp'...\n",
            "warning: redirecting to https://github.com/yih117/pytorch-drl4vrp.git/\n",
            "remote: Enumerating objects: 506, done.\u001b[K\n",
            "remote: Counting objects: 100% (336/336), done.\u001b[K\n",
            "remote: Compressing objects: 100% (247/247), done.\u001b[K\n",
            "remote: Total 506 (delta 175), reused 179 (delta 89), pack-reused 170\u001b[K\n",
            "Receiving objects: 100% (506/506), 1.40 MiB | 10.33 MiB/s, done.\n",
            "Resolving deltas: 100% (245/245), done.\n"
          ]
        }
      ],
      "source": [
        "!git clone http://github.com/yih117/pytorch-drl4vrp.git"
      ]
    },
    {
      "cell_type": "code",
      "source": [
        "!python pytorch-drl4vrp/trainer.py --task=vrp --nodes=10 --batch_size=256 --train-size=100000 --max_time=5"
      ],
      "metadata": {
        "colab": {
          "base_uri": "https://localhost:8080/"
        },
        "id": "AWqvm4e2Rl5J",
        "outputId": "a37e7c10-73c3-40c3-cfff-eb30b82439f1"
      },
      "execution_count": 45,
      "outputs": [
        {
          "output_type": "stream",
          "name": "stdout",
          "text": [
            "/content/pytorch-drl4vrp/tasks/vrp.py:158: UserWarning: To copy construct from a tensor, it is recommended to use sourceTensor.clone().detach() or sourceTensor.clone().detach().requires_grad_(True), rather than torch.tensor(sourceTensor).\n",
            "  return torch.tensor(tensor.data, device=dynamic.device), cumulative_reward\n",
            "  Batch 99/391, reward: -0.588, loss: 0.2230, took: 21.3689s\n",
            "Traceback (most recent call last):\n",
            "  File \"/content/pytorch-drl4vrp/trainer.py\", line 398, in <module>\n",
            "    train_vrp(args)\n",
            "  File \"/content/pytorch-drl4vrp/trainer.py\", line 353, in train_vrp\n",
            "    train(actor, critic, **kwargs)\n",
            "  File \"/content/pytorch-drl4vrp/trainer.py\", line 166, in train\n",
            "    tour_indices, tour_logp, cumulative_reward = actor(static, dynamic, x0)\n",
            "  File \"/usr/local/lib/python3.10/dist-packages/torch/nn/modules/module.py\", line 1501, in _call_impl\n",
            "    return forward_call(*args, **kwargs)\n",
            "  File \"/content/pytorch-drl4vrp/model.py\", line 226, in forward\n",
            "    dynamic, reward = self.update_fn(dynamic, ptr.data)\n",
            "  File \"/content/pytorch-drl4vrp/tasks/vrp.py\", line 154, in update_dynamic\n",
            "    all_current_loc[i] = chosen_idx[i]\n",
            "KeyboardInterrupt\n",
            "^C\n",
            "/content/pytorch-drl4vrp/tasks/vrp.py:158: UserWarning: To copy construct from a tensor, it is recommended to use sourceTensor.clone().detach() or sourceTensor.clone().detach().requires_grad_(True), rather than torch.tensor(sourceTensor).\n",
            "  return torch.tensor(tensor.data, device=dynamic.device), cumulative_reward\n"
          ]
        }
      ]
    },
    {
      "cell_type": "markdown",
      "source": [],
      "metadata": {
        "id": "C_u8Zy3Svuav"
      }
    }
  ]
}